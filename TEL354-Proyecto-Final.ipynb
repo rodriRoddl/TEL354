{
 "cells": [
  {
   "cell_type": "markdown",
   "metadata": {},
   "source": [
    "## Proyecto final- Speaker recongizer\n",
    "\n",
    "#### Integrantes\n",
    "\n",
    "- Diego Flores.\n",
    "- Rodrigo Lobos.\n",
    "- Rodrigo Contreras."
   ]
  },
  {
   "cell_type": "markdown",
   "metadata": {},
   "source": [
    "### Librerías a utilizar:\n",
    "\n",
    "#### Librosa:\n",
    "\n",
    "<img itemprop=\"image\" class=\"avatar flex-shrink-0 mb-3 mr-3 mb-md-0 mr-md-4\" src=\"https://avatars.githubusercontent.com/u/18124827?s=200&amp;v=4\" width=\"150\" height=\"150\" alt=\"@librosa\">\n",
    "\n",
    "Esta librería nos ayudará a cargar el audio para poder obtener el espectrograma en cuanto a valores de arreglo y a visualizarlo. \n",
    "\n",
    "#### Tensorflow:\n",
    "\n",
    "<img src=\"https://www.gstatic.com/devrel-devsite/prod/vc5df62aff689c916c31b2ac1e49a7e8c5ecada1bb13dcdd68aaefb1e1e9b9ec0/tensorflow/images/lockup.svg\" width=\"300\" height=\"100\" class=\"devsite-site-logo\" alt=\"TensorFlow\">\n",
    "\n",
    "Con esta libreria podremos hacer el entrenamiento del modelo que usaremos, así como también el uso de keras para llamar al modedlo como tal y definir el modelo de red neuronal.\n",
    "\n",
    "#### Sklearn:\n",
    "\n",
    "<img src=\"//upload.wikimedia.org/wikipedia/commons/thumb/0/05/Scikit_learn_logo_small.svg/250px-Scikit_learn_logo_small.svg.png\" decoding=\"async\" width=\"230\" height=\"125\" class=\"mw-file-element\" srcset=\"//upload.wikimedia.org/wikipedia/commons/thumb/0/05/Scikit_learn_logo_small.svg/375px-Scikit_learn_logo_small.svg.png 1.5x, //upload.wikimedia.org/wikipedia/commons/thumb/0/05/Scikit_learn_logo_small.svg/500px-Scikit_learn_logo_small.svg.png 2x\" data-file-width=\"260\" data-file-height=\"140\">\n",
    "\n",
    "Nos ayudará a normalizar y codificar etiquetas para los datos con los que vamos a entrenar."
   ]
  },
  {
   "cell_type": "markdown",
   "metadata": {},
   "source": [
    "#### Importación de bibliotecas en Python:"
   ]
  },
  {
   "cell_type": "code",
   "execution_count": 1,
   "metadata": {},
   "outputs": [],
   "source": [
    "import numpy as np\n",
    "import os\n",
    "from pathlib import Path\n",
    "import sounddevice as sd\n",
    "import librosa\n",
    "from tensorflow.keras.models import Sequential\n",
    "from tensorflow.keras.layers import Dense, Dropout, LSTM, Bidirectional\n",
    "from sklearn.preprocessing import LabelEncoder, StandardScaler\n",
    "from sklearn.model_selection import train_test_split\n",
    "from tensorflow.keras.utils import to_categorical\n",
    "from sklearn.metrics import confusion_matrix, classification_report\n",
    "import seaborn as sns\n",
    "import matplotlib.pyplot as plt"
   ]
  },
  {
   "cell_type": "markdown",
   "metadata": {},
   "source": [
    "#### Función de captura de audio:\n",
    "\n",
    "Esta función nos ayudará a poder capturar la voz en tiempo real, ya con el modelo entrenado es capaz de reconocer al hablante en ese instante."
   ]
  },
  {
   "cell_type": "code",
   "execution_count": 2,
   "metadata": {},
   "outputs": [],
   "source": [
    "def record_audio(duration=2, sr=22050):\n",
    "    print(\"Recording...\")\n",
    "    audio = sd.rec(int(duration * sr), samplerate=sr, channels=1)\n",
    "    sd.wait()\n",
    "    print(\"Recording complete\")\n",
    "    return np.squeeze(audio)"
   ]
  },
  {
   "cell_type": "markdown",
   "metadata": {},
   "source": [
    "#### Extracción de mfcc del audio:\n",
    "Tomaremos un sample rate de 22 KHz, común en archivos de audio, el número de coeficientes de 13 para el análisis de coeficientes cepstrales de frecuencias, una ventana de 2048 para la transformada de Fourier, y 512 como número de saltos. Este análisis de audio nos permitirá hacer parte del reconocimiento de voz."
   ]
  },
  {
   "cell_type": "code",
   "execution_count": 3,
   "metadata": {},
   "outputs": [],
   "source": [
    "def extract_features(audio, sr=22050, n_mfcc=13, n_fft=2048, hop_length=512):\n",
    "    mfccs = librosa.feature.mfcc(y=audio, sr=sr, n_mfcc=n_mfcc, n_fft=n_fft, hop_length=hop_length)\n",
    "    return mfccs.T"
   ]
  },
  {
   "cell_type": "markdown",
   "metadata": {},
   "source": [
    "#### Preparación o preprocesado de datos de entrenamiento:\n",
    "Para la automatización del entrenamiento, debemos extraer el MFCC de todos los audios del dataset, hacerles un padding (de ser necesario) para el ajuste de tamaño entre ellas, para retornar una lista de estas MFCCs con las etiquetas asociadas. "
   ]
  },
  {
   "cell_type": "code",
   "execution_count": 4,
   "metadata": {},
   "outputs": [],
   "source": [
    "def prepare_data(file_paths, labels, sr=22050, n_mfcc=13, max_pad_len=87):\n",
    "    features = []\n",
    "    for file_path in file_paths:\n",
    "        audio, sr = librosa.load(file_path, sr=sr)\n",
    "        mfccs = extract_features(audio, sr, n_mfcc)\n",
    "        if mfccs.shape[0] > max_pad_len:\n",
    "            mfccs = mfccs[:max_pad_len]\n",
    "        else:\n",
    "            pad_width = max_pad_len - mfccs.shape[0]\n",
    "            mfccs = np.pad(mfccs, ((0, pad_width), (0, 0)), mode='constant')\n",
    "        features.append(mfccs)\n",
    "    features = np.array(features)\n",
    "    return features, np.array(labels)"
   ]
  },
  {
   "cell_type": "markdown",
   "metadata": {},
   "source": [
    "#### Definición de modelo de red neuronal:\n",
    "En este caso se tienen 3 capas ocultas (por definición), en donde se tiene que:\n",
    "- La 1° Capa Bidireccional LSTM permite que procese secuencias en ambas direcciones (hacia adelante y hacia atrás), la cual es de 128 unidades.\n",
    "- La 2° Capa Bidireccional LSTM devuelve la última salida en la secuencia para la siguiente capa densa, esta consta de 64 unidades.\n",
    "- Capa densa con activación ReLu, totalmente conectada con 32 neuronas y función de activación ReLU (Rectified Linear Unit), que introduce la no linealidad en el modelo.\n",
    "\n",
    "Como se puede ver,el modelo al compilar se maneja por multiclase y usa el optimizador adam, y una función de pérdida dedicada a la clasificación multiclase, se guía principalmente por el accuracy.\n",
    "\n",
    "##### Consideraciones:\n",
    "- Las capas de dropout que se aprecian son para evitar un sobreajuste del entrenamiento\n",
    "- Se termina utilizando LSTM porque es el más adecuado para el trabajo de secuencia de datos como el audio, CNN se centra más en datos como imágenes o una estructura de cuadrícula."
   ]
  },
  {
   "cell_type": "code",
   "execution_count": 5,
   "metadata": {},
   "outputs": [],
   "source": [
    "def create_model(input_shape, num_classes):\n",
    "    model = Sequential()\n",
    "    model.add(Bidirectional(LSTM(128, return_sequences=True), input_shape=input_shape))\n",
    "    model.add(Dropout(0.3))\n",
    "    model.add(Bidirectional(LSTM(64)))\n",
    "    model.add(Dropout(0.3))\n",
    "    model.add(Dense(32, activation='relu'))\n",
    "    model.add(Dropout(0.3))\n",
    "    model.add(Dense(num_classes, activation='softmax'))\n",
    "    model.compile(optimizer='adam', loss='categorical_crossentropy', metrics=['accuracy'])\n",
    "    return model"
   ]
  },
  {
   "cell_type": "markdown",
   "metadata": {},
   "source": [
    "#### Lectura de dataset y adición de labels:\n",
    "Se agregan las etiquetas según el nombre de la carpeta donde se encuentran los audios, ya que cada carpeta pertenece a una persona distinta."
   ]
  },
  {
   "cell_type": "code",
   "execution_count": 12,
   "metadata": {},
   "outputs": [],
   "source": [
    "file_paths = []\n",
    "labels = []\n",
    "voice_filenames = os.listdir(\"Proyecto/audio-dataset\")\n",
    "for name in voice_filenames:\n",
    "    dir_path = Path(\"Proyecto/audio-dataset\") / name\n",
    "    speaker_sample_paths = [\n",
    "        os.path.join(dir_path, filepath)\n",
    "        for filepath in os.listdir(dir_path)\n",
    "        if filepath.endswith(\".wav\")\n",
    "    ]\n",
    "    file_paths += speaker_sample_paths\n",
    "    labels += [name] * len(speaker_sample_paths)"
   ]
  },
  {
   "cell_type": "markdown",
   "metadata": {},
   "source": [
    "#### Normalización y separación de datos para creación y entrenamieno del modelo:\n",
    "\n",
    "Para este caso, definimos un máximo de 87 de padding (o relleno) de los datos, para luego normalizarlos (StandarScaler) y codificar las labels (LabelEncoder) para el modelo y categorizarlos (por cómo se definió la creación de modelo). FInalmente se toman datos de entrenamiento y testing para la creación y entrenamiento del modelo."
   ]
  },
  {
   "cell_type": "code",
   "execution_count": 62,
   "metadata": {},
   "outputs": [
    {
     "name": "stderr",
     "output_type": "stream",
     "text": [
      "C:\\Users\\rodri\\AppData\\Local\\Packages\\PythonSoftwareFoundation.Python.3.11_qbz5n2kfra8p0\\LocalCache\\local-packages\\Python311\\site-packages\\librosa\\core\\spectrum.py:266: UserWarning: n_fft=2048 is too large for input signal of length=464\n",
      "  warnings.warn(\n"
     ]
    },
    {
     "name": "stdout",
     "output_type": "stream",
     "text": [
      "Epoch 1/10\n"
     ]
    },
    {
     "name": "stderr",
     "output_type": "stream",
     "text": [
      "C:\\Users\\rodri\\AppData\\Local\\Packages\\PythonSoftwareFoundation.Python.3.11_qbz5n2kfra8p0\\LocalCache\\local-packages\\Python311\\site-packages\\keras\\src\\layers\\rnn\\bidirectional.py:107: UserWarning: Do not pass an `input_shape`/`input_dim` argument to a layer. When using Sequential models, prefer using an `Input(shape)` object as the first layer in the model instead.\n",
      "  super().__init__(**kwargs)\n"
     ]
    },
    {
     "name": "stdout",
     "output_type": "stream",
     "text": [
      "\u001b[1m9/9\u001b[0m \u001b[32m━━━━━━━━━━━━━━━━━━━━\u001b[0m\u001b[37m\u001b[0m \u001b[1m8s\u001b[0m 167ms/step - accuracy: 0.5638 - loss: 0.9547 - val_accuracy: 1.0000 - val_loss: 0.5213\n",
      "Epoch 2/10\n",
      "\u001b[1m9/9\u001b[0m \u001b[32m━━━━━━━━━━━━━━━━━━━━\u001b[0m\u001b[37m\u001b[0m \u001b[1m1s\u001b[0m 58ms/step - accuracy: 1.0000 - loss: 0.3477 - val_accuracy: 1.0000 - val_loss: 0.0991\n",
      "Epoch 3/10\n",
      "\u001b[1m9/9\u001b[0m \u001b[32m━━━━━━━━━━━━━━━━━━━━\u001b[0m\u001b[37m\u001b[0m \u001b[1m1s\u001b[0m 56ms/step - accuracy: 0.9918 - loss: 0.0918 - val_accuracy: 1.0000 - val_loss: 0.0229\n",
      "Epoch 4/10\n",
      "\u001b[1m9/9\u001b[0m \u001b[32m━━━━━━━━━━━━━━━━━━━━\u001b[0m\u001b[37m\u001b[0m \u001b[1m1s\u001b[0m 57ms/step - accuracy: 0.9834 - loss: 0.0606 - val_accuracy: 1.0000 - val_loss: 0.0079\n",
      "Epoch 5/10\n",
      "\u001b[1m9/9\u001b[0m \u001b[32m━━━━━━━━━━━━━━━━━━━━\u001b[0m\u001b[37m\u001b[0m \u001b[1m1s\u001b[0m 63ms/step - accuracy: 1.0000 - loss: 0.0227 - val_accuracy: 1.0000 - val_loss: 0.0037\n",
      "Epoch 6/10\n",
      "\u001b[1m9/9\u001b[0m \u001b[32m━━━━━━━━━━━━━━━━━━━━\u001b[0m\u001b[37m\u001b[0m \u001b[1m1s\u001b[0m 57ms/step - accuracy: 1.0000 - loss: 0.0220 - val_accuracy: 1.0000 - val_loss: 0.0023\n",
      "Epoch 7/10\n",
      "\u001b[1m9/9\u001b[0m \u001b[32m━━━━━━━━━━━━━━━━━━━━\u001b[0m\u001b[37m\u001b[0m \u001b[1m1s\u001b[0m 59ms/step - accuracy: 1.0000 - loss: 0.0124 - val_accuracy: 1.0000 - val_loss: 0.0018\n",
      "Epoch 8/10\n",
      "\u001b[1m9/9\u001b[0m \u001b[32m━━━━━━━━━━━━━━━━━━━━\u001b[0m\u001b[37m\u001b[0m \u001b[1m1s\u001b[0m 60ms/step - accuracy: 1.0000 - loss: 0.0126 - val_accuracy: 1.0000 - val_loss: 0.0015\n",
      "Epoch 9/10\n",
      "\u001b[1m9/9\u001b[0m \u001b[32m━━━━━━━━━━━━━━━━━━━━\u001b[0m\u001b[37m\u001b[0m \u001b[1m1s\u001b[0m 57ms/step - accuracy: 1.0000 - loss: 0.0091 - val_accuracy: 1.0000 - val_loss: 0.0011\n",
      "Epoch 10/10\n",
      "\u001b[1m9/9\u001b[0m \u001b[32m━━━━━━━━━━━━━━━━━━━━\u001b[0m\u001b[37m\u001b[0m \u001b[1m1s\u001b[0m 59ms/step - accuracy: 1.0000 - loss: 0.0065 - val_accuracy: 1.0000 - val_loss: 7.5861e-04\n"
     ]
    },
    {
     "data": {
      "text/plain": [
       "<keras.src.callbacks.history.History at 0x1fe7275ab90>"
      ]
     },
     "execution_count": 62,
     "metadata": {},
     "output_type": "execute_result"
    }
   ],
   "source": [
    "max_pad_len = 87 \n",
    "features, labels = prepare_data(file_paths, labels, max_pad_len=max_pad_len)\n",
    "\n",
    "scaler = StandardScaler()\n",
    "features = scaler.fit_transform(features.reshape(-1, features.shape[-1])).reshape(features.shape)\n",
    "\n",
    "label_encoder = LabelEncoder()\n",
    "labels_encoded = label_encoder.fit_transform(labels)\n",
    "labels_categorical = to_categorical(labels_encoded)\n",
    "\n",
    "X_train, X_test, y_train, y_test = train_test_split(features, labels_categorical, test_size=0.2, random_state=42)\n",
    "\n",
    "model = create_model((X_train.shape[1], X_train.shape[2]), num_classes=labels_categorical.shape[1])\n",
    "model.fit(X_train, y_train, epochs=10, batch_size=8, validation_data=(X_test, y_test))\n"
   ]
  },
  {
   "cell_type": "markdown",
   "metadata": {},
   "source": [
    "#### Reconocimiento del hablante:\n",
    "AL haber entrenado el modelo, ahora tomamos el audio actual del hablante, usamos la función extract_features para obtener los mfcc del audio, lo normalizamos y hacemos el padding del mismo. Luego de eso hacemos la predicción respecto a estos datos y obtenemos el valor máximo de la predicción como del label asociado, para que nos muestre el hablante con el que hizo el mejor match."
   ]
  },
  {
   "cell_type": "code",
   "execution_count": 14,
   "metadata": {},
   "outputs": [],
   "source": [
    "def recognize_speaker(audio, sr=22050, threshold=0.9):\n",
    "    features = extract_features(audio, sr).reshape(1, -1, 13)\n",
    "    features = scaler.transform(features.reshape(-1, features.shape[-1])).reshape(features.shape)\n",
    "    features_padded = np.zeros((1, max_pad_len, 13))\n",
    "    if features.shape[1] > max_pad_len:\n",
    "        features_padded[0] = features[0, :max_pad_len]\n",
    "    else:\n",
    "        features_padded[0, :features.shape[1]] = features[0]\n",
    "    prediction = model.predict(features_padded)\n",
    "    max_prob = np.max(prediction)\n",
    "    if max_prob < threshold:\n",
    "        return \"No se reconoce al hablante\"\n",
    "    label_index = np.argmax(prediction)\n",
    "    label = label_encoder.inverse_transform([label_index])\n",
    "    return label[0]"
   ]
  },
  {
   "cell_type": "markdown",
   "metadata": {},
   "source": [
    "#### Métricas de estudio:\n",
    "En este caso presentamos la matriz de confusión asociada a los datos, y el reporte de la clasificación hecha."
   ]
  },
  {
   "cell_type": "code",
   "execution_count": 15,
   "metadata": {},
   "outputs": [
    {
     "name": "stdout",
     "output_type": "stream",
     "text": [
      "\u001b[1m1/1\u001b[0m \u001b[32m━━━━━━━━━━━━━━━━━━━━\u001b[0m\u001b[37m\u001b[0m \u001b[1m1s\u001b[0m 956ms/step\n",
      "\n",
      "Classification Report\n",
      "              precision    recall  f1-score   support\n",
      "\n",
      "       benja       1.00      1.00      1.00         8\n",
      "       diego       1.00      1.00      1.00         7\n",
      "       roder       1.00      1.00      1.00         4\n",
      "\n",
      "    accuracy                           1.00        19\n",
      "   macro avg       1.00      1.00      1.00        19\n",
      "weighted avg       1.00      1.00      1.00        19\n",
      "\n"
     ]
    },
    {
     "data": {
      "image/png": "[encoded data removed]",
      "text/plain": [
       "<Figure size 1000x700 with 2 Axes>"
      ]
     },
     "metadata": {},
     "output_type": "display_data"
    }
   ],
   "source": [
    "y_pred = model.predict(X_test)\n",
    "y_pred_indices = np.argmax(y_pred, axis=1)\n",
    "y_test_indices = np.argmax(y_test, axis=1)\n",
    "\n",
    "cm = confusion_matrix(y_test_indices, y_pred_indices)\n",
    "\n",
    "report = classification_report(y_test_indices, y_pred_indices, target_names=label_encoder.classes_)\n",
    "print(\"\\nClassification Report\")\n",
    "print(report)\n",
    "\n",
    "# Visualizar la matriz de confusión\n",
    "plt.figure(figsize=(10, 7))\n",
    "sns.heatmap(cm, annot=True, fmt='d', cmap='Blues', xticklabels=label_encoder.classes_, yticklabels=label_encoder.classes_)\n",
    "plt.xlabel('Predicted')\n",
    "plt.ylabel('True')\n",
    "plt.title('Matriz de confusión')\n",
    "plt.show()\n"
   ]
  },
  {
   "cell_type": "markdown",
   "metadata": {},
   "source": [
    "#### Llamada a la función para reconocimiento en tiempo real:"
   ]
  },
  {
   "cell_type": "code",
   "execution_count": 79,
   "metadata": {},
   "outputs": [
    {
     "name": "stdout",
     "output_type": "stream",
     "text": [
      "Recording...\n",
      "Recording complete\n",
      "\u001b[1m1/1\u001b[0m \u001b[32m━━━━━━━━━━━━━━━━━━━━\u001b[0m\u001b[37m\u001b[0m \u001b[1m0s\u001b[0m 45ms/step\n",
      "Hablante reconocido: diego\n"
     ]
    }
   ],
   "source": [
    "audio = record_audio(duration=2)\n",
    "recognized_speaker = recognize_speaker(audio)\n",
    "print(f\"Hablante reconocido: {recognized_speaker}\")"
   ]
  }
 ],
 "metadata": {
  "kernelspec": {
   "display_name": "Python 3",
   "language": "python",
   "name": "python3"
  },
  "language_info": {
   "codemirror_mode": {
    "name": "ipython",
    "version": 3
   },
   "file_extension": ".py",
   "mimetype": "text/x-python",
   "name": "python",
   "nbconvert_exporter": "python",
   "pygments_lexer": "ipython3",
   "version": "3.11.9"
  }
 },
 "nbformat": 4,
 "nbformat_minor": 2
}
